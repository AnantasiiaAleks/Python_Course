{
 "cells": [
  {
   "cell_type": "code",
   "execution_count": 1,
   "id": "52798cb6-8e87-470f-bb19-94bdc31e84f9",
   "metadata": {},
   "outputs": [],
   "source": [
    "import pandas as pd"
   ]
  },
  {
   "cell_type": "code",
   "execution_count": 3,
   "id": "77466638-229f-499c-b6e4-4b0d8b32a0f6",
   "metadata": {},
   "outputs": [],
   "source": [
    "data = pd.read_csv('kc_house_data_2.csv')"
   ]
  },
  {
   "cell_type": "code",
   "execution_count": 15,
   "id": "e4609281-cf26-4386-a858-4ac5fefc8290",
   "metadata": {},
   "outputs": [
    {
     "name": "stdout",
     "output_type": "stream",
     "text": [
      "           id             date     price  bedrooms  bathrooms  sqft_living  \\\n",
      "0  7129300520  20141013T000000  221900.0         3       1.00         1180   \n",
      "1  6414100192  20141209T000000  538000.0         3       2.25         2570   \n",
      "2  5631500400  20150225T000000  180000.0         2       1.00          770   \n",
      "3  2487200875  20141209T000000  604000.0         4       3.00         1960   \n",
      "4  1954400510  20150218T000000  510000.0         3       2.00         1680   \n",
      "\n",
      "   sqft_lot  floors  waterfront  view  ...  sqft_basement  yr_built  \\\n",
      "0      5650     1.0           0     0  ...              0      1955   \n",
      "1      7242     2.0           0     0  ...            400      1951   \n",
      "2     10000     1.0           0     0  ...              0      1933   \n",
      "3      5000     1.0           0     0  ...            910      1965   \n",
      "4      8080     1.0           0     0  ...              0      1987   \n",
      "\n",
      "   yr_renovated  zipcode      lat     long  sqft_living15  sqft_lot15  \\\n",
      "0             0    98178  47.5112 -122.257           1340        5650   \n",
      "1          1991    98125  47.7210 -122.319           1690        7639   \n",
      "2             0    98028  47.7379 -122.233           2720        8062   \n",
      "3             0    98136  47.5208 -122.393           1360        5000   \n",
      "4             0    98074  47.6168 -122.045           1800        7503   \n",
      "\n",
      "   price_per_sqft_living  age_of_house  \n",
      "0             188.050847            70  \n",
      "1             209.338521            74  \n",
      "2             233.766234            92  \n",
      "3             308.163265            60  \n",
      "4             303.571429            38  \n",
      "\n",
      "[5 rows x 23 columns]\n"
     ]
    }
   ],
   "source": [
    "print(data.head())"
   ]
  },
  {
   "cell_type": "code",
   "execution_count": 9,
   "id": "59a4ba3c-b6cb-4b13-bec1-09c8420e079e",
   "metadata": {},
   "outputs": [],
   "source": [
    "# Добавить новый признак price_per_sqft_living, который будет\n",
    "# содержать среднюю стоимость за квадратный метр жилой площади (price /\n",
    "# sqft_living).\n",
    "data['price_per_sqft_living'] = data['price'] / data['sqft_living']"
   ]
  },
  {
   "cell_type": "code",
   "execution_count": 13,
   "id": "2d927448-fdbb-4331-9b94-d9d1569021b4",
   "metadata": {},
   "outputs": [],
   "source": [
    "# Создать новый признак age_of_house, который будет содержать возраст\n",
    "# дома (текущий год минус год постройки yr_built).\n",
    "cur_year = pd.to_datetime('today').year\n",
    "data['age_of_house'] = cur_year - data['yr_built']"
   ]
  },
  {
   "cell_type": "code",
   "execution_count": 17,
   "id": "58c02a90-3db5-4306-b4dd-adad56f348cb",
   "metadata": {},
   "outputs": [],
   "source": [
    " # Удалить признаки zipcode, lat, long и сохранить измененные данные в\n",
    " # новый CSV файл modified_data.csv.\n",
    "new_data = data.drop(columns = ['zipcode', 'lat', 'long'])\n",
    "new_data.to_csv('modified_data.csv', index=False)"
   ]
  },
  {
   "cell_type": "code",
   "execution_count": 19,
   "id": "55e33604-8e4d-4cc6-99cc-48d7793dea75",
   "metadata": {},
   "outputs": [],
   "source": [
    "# Найти дома с видом на набережную, стоимостью выше 500 000 и более чем\n",
    "# 2000 квадратных метров жилой площади.\n",
    "# Сохранить информацию о таких домах в новый CSV-файл.\n",
    "filter_houses = data[\n",
    "                (data['waterfront'] == 1) &\n",
    "                (data['price'] > 500000) &\n",
    "                (data['sqft_living'] > 2000)\n",
    "                ]\n",
    "filter_houses.to_csv('expensive_houses.csv', index=False)"
   ]
  },
  {
   "cell_type": "code",
   "execution_count": 43,
   "id": "9113e003-fef1-482a-8bc9-af82f80304a9",
   "metadata": {},
   "outputs": [
    {
     "name": "stderr",
     "output_type": "stream",
     "text": [
      "C:\\Users\\chiffka\\AppData\\Local\\Temp\\ipykernel_19188\\421799367.py:5: SettingWithCopyWarning: \n",
      "A value is trying to be set on a copy of a slice from a DataFrame.\n",
      "Try using .loc[row_indexer,col_indexer] = value instead\n",
      "\n",
      "See the caveats in the documentation: https://pandas.pydata.org/pandas-docs/stable/user_guide/indexing.html#returning-a-view-versus-a-copy\n",
      "  filtered_data.loc[:, 'price_per_sqft'] = filtered_data['price'] / filtered_data['sqft_living']\n"
     ]
    }
   ],
   "source": [
    "# Построить DataFrame с колонками sqft_living, condition и price.\n",
    "# Определить среднюю стоимость за квадратный метр жилой площади для\n",
    "# разных состояний домов и сохраните в текстовый файл.\n",
    "filtered_data = data[['sqft_living', 'condition', 'price']]\n",
    "filtered_data.loc[:, 'price_per_sqft'] = filtered_data['price'] / filtered_data['sqft_living']\n",
    "mean_condition = filtered_data.groupby('condition')['price_per_sqft'].mean()\n",
    "\n",
    "with open('living_vs_condition_analysis.txt', 'w', encoding='UTF-8') as f:\n",
    "    for condition, mean in mean_condition.items():\n",
    "        f.write(f\"Состояние: {condition} \\t Средняя стоимость за кв.метр: {mean}\\n\")"
   ]
  },
  {
   "cell_type": "code",
   "execution_count": 45,
   "id": "afe6e406-a835-4942-ae48-6cf03543c897",
   "metadata": {},
   "outputs": [],
   "source": [
    "# Создайте датафрейм с покупками и сохраните его в переменную purchases.\n",
    "purchases = pd.DataFrame({\n",
    "        'purchase_id': [2001, 2002, 2003, 2004, 2005],\n",
    "        'client_id': [1001, 1002, 1003, 1001, 1005],\n",
    "        'house_id': [1234567890, 9876543210, 4567891230, 5566778899, 1122334455]\n",
    "})"
   ]
  },
  {
   "cell_type": "code",
   "execution_count": 47,
   "id": "ebf3cf3f-a371-4cbc-83f6-c5d68e46b592",
   "metadata": {},
   "outputs": [],
   "source": [
    " # Создайте датафрейм с информацией о клиентах и сохраните его в переменную clients_info.\n",
    "clients_info = pd.DataFrame({\n",
    "        'client_id': [1001, 1002, 1003, 1004, 1005],\n",
    "        'name': ['Alice', 'Bob', 'Charlie', 'David', 'Eve'],\n",
    "        'age': [30, 40, 35, 45, 50]\n",
    "})"
   ]
  },
  {
   "cell_type": "code",
   "execution_count": 49,
   "id": "ac681964-7d0a-43ad-8f63-d643b711aad2",
   "metadata": {},
   "outputs": [],
   "source": [
    " # Присоедините информацию о клиентах к таблице purchases через метод join\n",
    " # и сохраните в переменную purchases_with_info.\n",
    "purchases_with_info = purchases.join(clients_info.set_index('client_id'), on='client_id')"
   ]
  },
  {
   "cell_type": "code",
   "execution_count": 51,
   "id": "f8c17e40-0c95-4649-b0b1-676c57beb1ee",
   "metadata": {},
   "outputs": [],
   "source": [
    "# Присоедините информацию о клиентах к таблице purchases через метод\n",
    "# merge и сохраните в переменную purchases_with_info_merged\n",
    "purchases_with_info_merged = pd.merge(purchases, clients_info, on='client_id')"
   ]
  },
  {
   "cell_type": "code",
   "execution_count": 53,
   "id": "302000be-378f-4954-82be-8192aa6d06df",
   "metadata": {},
   "outputs": [],
   "source": [
    "# Сохраните результаты в CSV файлы purchases_with_info.csv и\n",
    "# purchases_with_info_merged.csv.\n",
    "purchases_with_info.to_csv('purchases_with_info.csv', index=False)\n",
    "purchases_with_info_merged.to_csv('purchases_with_info_merged.csv', index=False)"
   ]
  },
  {
   "cell_type": "code",
   "execution_count": null,
   "id": "74e12fbe-f4b7-4cb4-b544-5083aa713dbd",
   "metadata": {},
   "outputs": [],
   "source": []
  }
 ],
 "metadata": {
  "kernelspec": {
   "display_name": "Python [conda env:base] *",
   "language": "python",
   "name": "conda-base-py"
  },
  "language_info": {
   "codemirror_mode": {
    "name": "ipython",
    "version": 3
   },
   "file_extension": ".py",
   "mimetype": "text/x-python",
   "name": "python",
   "nbconvert_exporter": "python",
   "pygments_lexer": "ipython3",
   "version": "3.12.7"
  }
 },
 "nbformat": 4,
 "nbformat_minor": 5
}
