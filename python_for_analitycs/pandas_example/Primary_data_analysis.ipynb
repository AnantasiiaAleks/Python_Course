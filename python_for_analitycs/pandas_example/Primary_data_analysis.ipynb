{
 "cells": [
  {
   "cell_type": "markdown",
   "id": "fba174cc-6c30-44d1-8a1a-f67b6855df88",
   "metadata": {},
   "source": [
    " Скачать файл в уроке\n",
    " Считать данные с помощью pandas\n",
    " Вывести на экран первые 5 строк\n",
    " Посмотреть на описание признаков и на их содержание"
   ]
  },
  {
   "cell_type": "code",
   "execution_count": 3,
   "id": "14eb1d6d-2784-4c71-a4e1-ef292ce343ff",
   "metadata": {},
   "outputs": [],
   "source": [
    "import pandas as pd"
   ]
  },
  {
   "cell_type": "code",
   "execution_count": 5,
   "id": "35ceba3f-86fe-4630-8980-1a971f6f8a1e",
   "metadata": {},
   "outputs": [],
   "source": [
    "data = pd.read_csv(\"kc_house_data.csv\")"
   ]
  },
  {
   "cell_type": "code",
   "execution_count": 7,
   "id": "528c80d9-82e5-458a-b9d5-b07a836884d6",
   "metadata": {
    "scrolled": true
   },
   "outputs": [
    {
     "name": "stdout",
     "output_type": "stream",
     "text": [
      "           id             date     price  bedrooms  bathrooms  sqft_living  \\\n",
      "0  7129300520  20141013T000000  221900.0         3       1.00         1180   \n",
      "1  6414100192  20141209T000000  538000.0         3       2.25         2570   \n",
      "2  5631500400  20150225T000000  180000.0         2       1.00          770   \n",
      "3  2487200875  20141209T000000  604000.0         4       3.00         1960   \n",
      "4  1954400510  20150218T000000  510000.0         3       2.00         1680   \n",
      "\n",
      "   sqft_lot  floors  waterfront  view  ...  grade  sqft_above  sqft_basement  \\\n",
      "0      5650     1.0           0     0  ...      7        1180              0   \n",
      "1      7242     2.0           0     0  ...      7        2170            400   \n",
      "2     10000     1.0           0     0  ...      6         770              0   \n",
      "3      5000     1.0           0     0  ...      7        1050            910   \n",
      "4      8080     1.0           0     0  ...      8        1680              0   \n",
      "\n",
      "   yr_built  yr_renovated  zipcode      lat     long  sqft_living15  \\\n",
      "0      1955             0    98178  47.5112 -122.257           1340   \n",
      "1      1951          1991    98125  47.7210 -122.319           1690   \n",
      "2      1933             0    98028  47.7379 -122.233           2720   \n",
      "3      1965             0    98136  47.5208 -122.393           1360   \n",
      "4      1987             0    98074  47.6168 -122.045           1800   \n",
      "\n",
      "   sqft_lot15  \n",
      "0        5650  \n",
      "1        7639  \n",
      "2        8062  \n",
      "3        5000  \n",
      "4        7503  \n",
      "\n",
      "[5 rows x 21 columns]\n"
     ]
    }
   ],
   "source": [
    "print(data.head())"
   ]
  },
  {
   "cell_type": "code",
   "execution_count": 9,
   "id": "78943424-b157-4579-80ce-905c44e15184",
   "metadata": {
    "scrolled": true
   },
   "outputs": [
    {
     "name": "stdout",
     "output_type": "stream",
     "text": [
      "<class 'pandas.core.frame.DataFrame'>\n",
      "RangeIndex: 21613 entries, 0 to 21612\n",
      "Data columns (total 21 columns):\n",
      " #   Column         Non-Null Count  Dtype  \n",
      "---  ------         --------------  -----  \n",
      " 0   id             21613 non-null  int64  \n",
      " 1   date           21613 non-null  object \n",
      " 2   price          21613 non-null  float64\n",
      " 3   bedrooms       21613 non-null  int64  \n",
      " 4   bathrooms      21613 non-null  float64\n",
      " 5   sqft_living    21613 non-null  int64  \n",
      " 6   sqft_lot       21613 non-null  int64  \n",
      " 7   floors         21613 non-null  float64\n",
      " 8   waterfront     21613 non-null  int64  \n",
      " 9   view           21613 non-null  int64  \n",
      " 10  condition      21613 non-null  int64  \n",
      " 11  grade          21613 non-null  int64  \n",
      " 12  sqft_above     21613 non-null  int64  \n",
      " 13  sqft_basement  21613 non-null  int64  \n",
      " 14  yr_built       21613 non-null  int64  \n",
      " 15  yr_renovated   21613 non-null  int64  \n",
      " 16  zipcode        21613 non-null  int64  \n",
      " 17  lat            21613 non-null  float64\n",
      " 18  long           21613 non-null  float64\n",
      " 19  sqft_living15  21613 non-null  int64  \n",
      " 20  sqft_lot15     21613 non-null  int64  \n",
      "dtypes: float64(5), int64(15), object(1)\n",
      "memory usage: 3.5+ MB\n",
      "None\n"
     ]
    }
   ],
   "source": [
    "print(data.info())"
   ]
  },
  {
   "cell_type": "code",
   "execution_count": 11,
   "id": "48ba194b-6264-4321-8803-b04d360ff50e",
   "metadata": {
    "scrolled": true
   },
   "outputs": [
    {
     "name": "stdout",
     "output_type": "stream",
     "text": [
      "id               0\n",
      "date             0\n",
      "price            0\n",
      "bedrooms         0\n",
      "bathrooms        0\n",
      "sqft_living      0\n",
      "sqft_lot         0\n",
      "floors           0\n",
      "waterfront       0\n",
      "view             0\n",
      "condition        0\n",
      "grade            0\n",
      "sqft_above       0\n",
      "sqft_basement    0\n",
      "yr_built         0\n",
      "yr_renovated     0\n",
      "zipcode          0\n",
      "lat              0\n",
      "long             0\n",
      "sqft_living15    0\n",
      "sqft_lot15       0\n",
      "dtype: int64\n"
     ]
    }
   ],
   "source": [
    "print(data.isnull().sum())"
   ]
  },
  {
   "cell_type": "code",
   "execution_count": 17,
   "id": "35cc5688-b025-42d8-8e12-9e322da664c5",
   "metadata": {
    "scrolled": true
   },
   "outputs": [
    {
     "name": "stdout",
     "output_type": "stream",
     "text": [
      "                 id         price      bedrooms     bathrooms   sqft_living  \\\n",
      "count  2.161300e+04  2.161300e+04  21613.000000  21613.000000  21613.000000   \n",
      "mean   4.580302e+09  5.400881e+05      3.370842      2.114757   2079.899736   \n",
      "std    2.876566e+09  3.671272e+05      0.930062      0.770163    918.440897   \n",
      "min    1.000102e+06  7.500000e+04      0.000000      0.000000    290.000000   \n",
      "25%    2.123049e+09  3.219500e+05      3.000000      1.750000   1427.000000   \n",
      "50%    3.904930e+09  4.500000e+05      3.000000      2.250000   1910.000000   \n",
      "75%    7.308900e+09  6.450000e+05      4.000000      2.500000   2550.000000   \n",
      "max    9.900000e+09  7.700000e+06     33.000000      8.000000  13540.000000   \n",
      "\n",
      "           sqft_lot        floors    waterfront          view     condition  \\\n",
      "count  2.161300e+04  21613.000000  21613.000000  21613.000000  21613.000000   \n",
      "mean   1.510697e+04      1.494309      0.007542      0.234303      3.409430   \n",
      "std    4.142051e+04      0.539989      0.086517      0.766318      0.650743   \n",
      "min    5.200000e+02      1.000000      0.000000      0.000000      1.000000   \n",
      "25%    5.040000e+03      1.000000      0.000000      0.000000      3.000000   \n",
      "50%    7.618000e+03      1.500000      0.000000      0.000000      3.000000   \n",
      "75%    1.068800e+04      2.000000      0.000000      0.000000      4.000000   \n",
      "max    1.651359e+06      3.500000      1.000000      4.000000      5.000000   \n",
      "\n",
      "              grade    sqft_above  sqft_basement      yr_built  yr_renovated  \\\n",
      "count  21613.000000  21613.000000   21613.000000  21613.000000  21613.000000   \n",
      "mean       7.656873   1788.390691     291.509045   1971.005136     84.402258   \n",
      "std        1.175459    828.090978     442.575043     29.373411    401.679240   \n",
      "min        1.000000    290.000000       0.000000   1900.000000      0.000000   \n",
      "25%        7.000000   1190.000000       0.000000   1951.000000      0.000000   \n",
      "50%        7.000000   1560.000000       0.000000   1975.000000      0.000000   \n",
      "75%        8.000000   2210.000000     560.000000   1997.000000      0.000000   \n",
      "max       13.000000   9410.000000    4820.000000   2015.000000   2015.000000   \n",
      "\n",
      "            zipcode           lat          long  sqft_living15     sqft_lot15  \n",
      "count  21613.000000  21613.000000  21613.000000   21613.000000   21613.000000  \n",
      "mean   98077.939805     47.560053   -122.213896    1986.552492   12768.455652  \n",
      "std       53.505026      0.138564      0.140828     685.391304   27304.179631  \n",
      "min    98001.000000     47.155900   -122.519000     399.000000     651.000000  \n",
      "25%    98033.000000     47.471000   -122.328000    1490.000000    5100.000000  \n",
      "50%    98065.000000     47.571800   -122.230000    1840.000000    7620.000000  \n",
      "75%    98118.000000     47.678000   -122.125000    2360.000000   10083.000000  \n",
      "max    98199.000000     47.777600   -121.315000    6210.000000  871200.000000  \n"
     ]
    }
   ],
   "source": [
    "print(data.describe())"
   ]
  },
  {
   "cell_type": "markdown",
   "id": "d50cef0e-9368-4fbd-b911-e489127f6975",
   "metadata": {},
   "source": [
    " Проведите первичный анализ данных\n",
    " Изучите типы данных\n",
    " Найдите количество пропущенных ячеек в данных\n",
    " Посчитайте основные статистики по всем признакам и поизучайте их\n",
    " Пишите выводы"
   ]
  },
  {
   "cell_type": "code",
   "execution_count": 25,
   "id": "37fae456-4260-448c-be22-64193d731f2b",
   "metadata": {
    "collapsed": true,
    "jupyter": {
     "outputs_hidden": true
    }
   },
   "outputs": [
    {
     "name": "stdout",
     "output_type": "stream",
     "text": [
      "id                 int64\n",
      "date              object\n",
      "price            float64\n",
      "bedrooms           int64\n",
      "bathrooms        float64\n",
      "sqft_living        int64\n",
      "sqft_lot           int64\n",
      "floors           float64\n",
      "waterfront         int64\n",
      "view               int64\n",
      "condition          int64\n",
      "grade              int64\n",
      "sqft_above         int64\n",
      "sqft_basement      int64\n",
      "yr_built           int64\n",
      "yr_renovated       int64\n",
      "zipcode            int64\n",
      "lat              float64\n",
      "long             float64\n",
      "sqft_living15      int64\n",
      "sqft_lot15         int64\n",
      "dtype: object\n"
     ]
    }
   ],
   "source": [
    "print(data.dtypes)"
   ]
  },
  {
   "cell_type": "code",
   "execution_count": 27,
   "id": "11ca7a6b-eed0-4c2a-8e50-b85426865607",
   "metadata": {},
   "outputs": [
    {
     "name": "stdout",
     "output_type": "stream",
     "text": [
      "id               0\n",
      "date             0\n",
      "price            0\n",
      "bedrooms         0\n",
      "bathrooms        0\n",
      "sqft_living      0\n",
      "sqft_lot         0\n",
      "floors           0\n",
      "waterfront       0\n",
      "view             0\n",
      "condition        0\n",
      "grade            0\n",
      "sqft_above       0\n",
      "sqft_basement    0\n",
      "yr_built         0\n",
      "yr_renovated     0\n",
      "zipcode          0\n",
      "lat              0\n",
      "long             0\n",
      "sqft_living15    0\n",
      "sqft_lot15       0\n",
      "dtype: int64\n"
     ]
    }
   ],
   "source": [
    "print(data.isnull().sum())"
   ]
  },
  {
   "cell_type": "code",
   "execution_count": 29,
   "id": "25e975b3-ac47-4f6e-bec6-560001639740",
   "metadata": {},
   "outputs": [
    {
     "name": "stdout",
     "output_type": "stream",
     "text": [
      "                 id         price      bedrooms     bathrooms   sqft_living  \\\n",
      "count  2.161300e+04  2.161300e+04  21613.000000  21613.000000  21613.000000   \n",
      "mean   4.580302e+09  5.400881e+05      3.370842      2.114757   2079.899736   \n",
      "std    2.876566e+09  3.671272e+05      0.930062      0.770163    918.440897   \n",
      "min    1.000102e+06  7.500000e+04      0.000000      0.000000    290.000000   \n",
      "25%    2.123049e+09  3.219500e+05      3.000000      1.750000   1427.000000   \n",
      "50%    3.904930e+09  4.500000e+05      3.000000      2.250000   1910.000000   \n",
      "75%    7.308900e+09  6.450000e+05      4.000000      2.500000   2550.000000   \n",
      "max    9.900000e+09  7.700000e+06     33.000000      8.000000  13540.000000   \n",
      "\n",
      "           sqft_lot        floors    waterfront          view     condition  \\\n",
      "count  2.161300e+04  21613.000000  21613.000000  21613.000000  21613.000000   \n",
      "mean   1.510697e+04      1.494309      0.007542      0.234303      3.409430   \n",
      "std    4.142051e+04      0.539989      0.086517      0.766318      0.650743   \n",
      "min    5.200000e+02      1.000000      0.000000      0.000000      1.000000   \n",
      "25%    5.040000e+03      1.000000      0.000000      0.000000      3.000000   \n",
      "50%    7.618000e+03      1.500000      0.000000      0.000000      3.000000   \n",
      "75%    1.068800e+04      2.000000      0.000000      0.000000      4.000000   \n",
      "max    1.651359e+06      3.500000      1.000000      4.000000      5.000000   \n",
      "\n",
      "              grade    sqft_above  sqft_basement      yr_built  yr_renovated  \\\n",
      "count  21613.000000  21613.000000   21613.000000  21613.000000  21613.000000   \n",
      "mean       7.656873   1788.390691     291.509045   1971.005136     84.402258   \n",
      "std        1.175459    828.090978     442.575043     29.373411    401.679240   \n",
      "min        1.000000    290.000000       0.000000   1900.000000      0.000000   \n",
      "25%        7.000000   1190.000000       0.000000   1951.000000      0.000000   \n",
      "50%        7.000000   1560.000000       0.000000   1975.000000      0.000000   \n",
      "75%        8.000000   2210.000000     560.000000   1997.000000      0.000000   \n",
      "max       13.000000   9410.000000    4820.000000   2015.000000   2015.000000   \n",
      "\n",
      "            zipcode           lat          long  sqft_living15     sqft_lot15  \n",
      "count  21613.000000  21613.000000  21613.000000   21613.000000   21613.000000  \n",
      "mean   98077.939805     47.560053   -122.213896    1986.552492   12768.455652  \n",
      "std       53.505026      0.138564      0.140828     685.391304   27304.179631  \n",
      "min    98001.000000     47.155900   -122.519000     399.000000     651.000000  \n",
      "25%    98033.000000     47.471000   -122.328000    1490.000000    5100.000000  \n",
      "50%    98065.000000     47.571800   -122.230000    1840.000000    7620.000000  \n",
      "75%    98118.000000     47.678000   -122.125000    2360.000000   10083.000000  \n",
      "max    98199.000000     47.777600   -121.315000    6210.000000  871200.000000  \n"
     ]
    }
   ],
   "source": [
    "print(data.describe())"
   ]
  },
  {
   "cell_type": "code",
   "execution_count": 31,
   "id": "3f051a41-1384-4670-9c09-6fabf2d28b02",
   "metadata": {},
   "outputs": [
    {
     "name": "stdout",
     "output_type": "stream",
     "text": [
      "Диапазон цен: 75000.0 - 7700000.0\n",
      "Диапазон жилой площади: 290 - 13540\n"
     ]
    }
   ],
   "source": [
    "print(\"Диапазон цен:\",data['price'].min(),\"-\", data['price'].max())\n",
    "print(\"Диапазон жилой площади:\",data['sqft_living'].min(),\"-\", data['sqft_living'].max())"
   ]
  },
  {
   "cell_type": "code",
   "execution_count": 33,
   "id": "6810879d-0314-44ca-bf45-0c1584a23e03",
   "metadata": {},
   "outputs": [
    {
     "name": "stdout",
     "output_type": "stream",
     "text": [
      "waterfront\n",
      "0    21450\n",
      "1      163\n",
      "Name: count, dtype: int64\n",
      "view\n",
      "0    19489\n",
      "2      963\n",
      "3      510\n",
      "1      332\n",
      "4      319\n",
      "Name: count, dtype: int64\n",
      "condition\n",
      "3    14031\n",
      "4     5679\n",
      "5     1701\n",
      "2      172\n",
      "1       30\n",
      "Name: count, dtype: int64\n",
      "grade\n",
      "7     8981\n",
      "8     6068\n",
      "9     2615\n",
      "6     2038\n",
      "10    1134\n",
      "11     399\n",
      "5      242\n",
      "12      90\n",
      "4       29\n",
      "13      13\n",
      "3        3\n",
      "1        1\n",
      "Name: count, dtype: int64\n"
     ]
    }
   ],
   "source": [
    "print(data['waterfront'].value_counts())\n",
    "print(data['view'].value_counts())\n",
    "print(data['condition'].value_counts())\n",
    "print(data['grade'].value_counts())"
   ]
  },
  {
   "cell_type": "markdown",
   "id": "fac9fa6b-aac1-4320-bf2c-215197bead3f",
   "metadata": {},
   "source": [
    " Ответьте на несколько вопросов"
   ]
  },
  {
   "cell_type": "code",
   "execution_count": null,
   "id": "de80c0b6-68e0-4530-9355-daf4eed3e2e9",
   "metadata": {},
   "outputs": [],
   "source": [
    "#  3.1 В каком диапазоне изменяются стоимости недвижимости?\n",
    "price_range = data['price'].min(), data['price'].max()\n",
    "print(\"Диапазон стоимости недвижимости:\", price_range)"
   ]
  },
  {
   "cell_type": "code",
   "execution_count": 39,
   "id": "3c148a04-0475-4abc-9749-da6b526bc873",
   "metadata": {},
   "outputs": [
    {
     "name": "stdout",
     "output_type": "stream",
     "text": [
      "Средняя доля жилой площади:  0.3237447254204737\n"
     ]
    }
   ],
   "source": [
    " #  3.2 Какую долю в среднем занимают жилая площадь от всей площади по всем домам?\n",
    "data['living_ratio'] = data['sqft_living'] / data['sqft_lot']\n",
    "average_living_ratio = data['living_ratio'].mean()\n",
    "print(\"Средняя доля жилой площади: \", average_living_ratio)"
   ]
  },
  {
   "cell_type": "code",
   "execution_count": 41,
   "id": "4413cc1e-dc2e-495a-b661-11354ffd827b",
   "metadata": {},
   "outputs": [
    {
     "name": "stdout",
     "output_type": "stream",
     "text": [
      "Распределение домов по этажам:  floors\n",
      "1.0    10680\n",
      "2.0     8241\n",
      "1.5     1910\n",
      "3.0      613\n",
      "2.5      161\n",
      "3.5        8\n",
      "Name: count, dtype: int64\n"
     ]
    }
   ],
   "source": [
    " # 3.3 Как много домов с разными этажами в данных?\n",
    "floors_distribution = data['floors'].value_counts()\n",
    "print(\"Распределение домов по этажам: \", floors_distribution)"
   ]
  },
  {
   "cell_type": "code",
   "execution_count": 45,
   "id": "3db17c38-15af-4777-af18-82de14bbcb49",
   "metadata": {},
   "outputs": [
    {
     "name": "stdout",
     "output_type": "stream",
     "text": [
      "Среднее состояние домов:  3.4094295100171195\n"
     ]
    }
   ],
   "source": [
    " # 3.4 Насколько хорошие состояния у домов в данных?\n",
    "average_condition = data['condition'].mean()\n",
    "print(\"Среднее состояние домов: \", average_condition)"
   ]
  },
  {
   "cell_type": "code",
   "execution_count": 47,
   "id": "1a51ecec-2a2c-495d-9959-ea76fa642714",
   "metadata": {},
   "outputs": [
    {
     "name": "stdout",
     "output_type": "stream",
     "text": [
      "Года постройки первого и последнего дома: (1900, 2015)\n"
     ]
    }
   ],
   "source": [
    " # 3.5 Найдите года, когда построили первый дом, когда построили последний дом в данных?\n",
    " yr_built_range = data['yr_built'].min(), data['yr_built'].max()\n",
    " print(\"Года постройки первого и последнего дома:\", yr_built_range)"
   ]
  },
  {
   "cell_type": "markdown",
   "id": "240c7adb-c539-4d06-8963-b9964d294fb2",
   "metadata": {},
   "source": [
    "Ответьте на несколько вопросов"
   ]
  },
  {
   "cell_type": "code",
   "execution_count": 51,
   "id": "eaf342bf-231d-4c41-9e1d-e15da07d1052",
   "metadata": {},
   "outputs": [
    {
     "name": "stdout",
     "output_type": "stream",
     "text": [
      "Средняя стоимость домов с двумя спальнями:  401372.681884058\n"
     ]
    }
   ],
   "source": [
    "# 4.1 Сколько в среднем стоят дома, у которых 2 спальни?\n",
    "average_price_2_bedrooms = data[data['bedrooms'] == 2]['price'].mean()\n",
    "print(\"Средняя стоимость домов с двумя спальнями: \", average_price_2_bedrooms)"
   ]
  },
  {
   "cell_type": "code",
   "execution_count": 53,
   "id": "d9f719a9-a29c-422f-9ad5-c69711540c7e",
   "metadata": {},
   "outputs": [
    {
     "name": "stdout",
     "output_type": "stream",
     "text": [
      "Средняя площадь домов стоимостью больше 600 000:  2895.47442455243\n"
     ]
    }
   ],
   "source": [
    "# 4.2 Какая в среднем общая площадь домов, у которых стоимость больше 600 000?\n",
    "average_sqft_expensive = data[data['price'] > 600000]['sqft_living'].mean()\n",
    "print(\"Средняя площадь домов стоимостью больше 600 000: \", average_sqft_expensive)"
   ]
  },
  {
   "cell_type": "code",
   "execution_count": 61,
   "id": "a72ba695-615b-4983-94d3-a58f817298e1",
   "metadata": {},
   "outputs": [
    {
     "name": "stdout",
     "output_type": "stream",
     "text": [
      "914  домов были отремонтированы.\n"
     ]
    }
   ],
   "source": [
    "# 4.3 Как много домов коснулся ремонт?\n",
    "renovated_houses_count = data[data['yr_renovated'] != 0].shape[0]\n",
    "print(renovated_houses_count, \" домов были отремонтированы.\")"
   ]
  },
  {
   "cell_type": "code",
   "execution_count": 65,
   "id": "3d5571c8-74d7-4e09-ad8d-cfa9f24085e2",
   "metadata": {},
   "outputs": [
    {
     "name": "stdout",
     "output_type": "stream",
     "text": [
      "Средняя стоимость домов с рейтингом выше 10 отличается от средней стоимости домов с рейтингом ниже 4 на  1488885.1175298805\n"
     ]
    }
   ],
   "source": [
    "# 4.4 Насколько в среднем стоимость домов с оценкой grade домов выше 10 \n",
    "# отличается от стоимости домов с оценкой grade меньше 4?\n",
    "price_high_grade = data[data['grade'] > 10]['price'].mean()\n",
    "price_low_grade = data[data['grade'] < 4]['price'].mean()\n",
    "print(\"Средняя стоимость домов с рейтингом выше 10 \" \\\n",
    "    \"отличается от средней стоимости домов с рейтингом ниже 4 на \" \\\n",
    "      , price_high_grade - price_low_grade)"
   ]
  },
  {
   "cell_type": "code",
   "execution_count": 67,
   "id": "c1e2a6d9-d792-4bf2-acf5-3115c8467244",
   "metadata": {},
   "outputs": [
    {
     "name": "stdout",
     "output_type": "stream",
     "text": [
      "           id             date     price  bedrooms  bathrooms  sqft_living  \\\n",
      "0  7129300520  20141013T000000  221900.0         3       1.00         1180   \n",
      "1  6414100192  20141209T000000  538000.0         3       2.25         2570   \n",
      "2  5631500400  20150225T000000  180000.0         2       1.00          770   \n",
      "3  2487200875  20141209T000000  604000.0         4       3.00         1960   \n",
      "4  1954400510  20150218T000000  510000.0         3       2.00         1680   \n",
      "\n",
      "   sqft_lot  floors  waterfront  view  ...  sqft_above  sqft_basement  \\\n",
      "0      5650     1.0           0     0  ...        1180              0   \n",
      "1      7242     2.0           0     0  ...        2170            400   \n",
      "2     10000     1.0           0     0  ...         770              0   \n",
      "3      5000     1.0           0     0  ...        1050            910   \n",
      "4      8080     1.0           0     0  ...        1680              0   \n",
      "\n",
      "   yr_built  yr_renovated  zipcode      lat     long  sqft_living15  \\\n",
      "0      1955             0    98178  47.5112 -122.257           1340   \n",
      "1      1951          1991    98125  47.7210 -122.319           1690   \n",
      "2      1933             0    98028  47.7379 -122.233           2720   \n",
      "3      1965             0    98136  47.5208 -122.393           1360   \n",
      "4      1987             0    98074  47.6168 -122.045           1800   \n",
      "\n",
      "   sqft_lot15  living_ratio  \n",
      "0        5650      0.208850  \n",
      "1        7639      0.354874  \n",
      "2        8062      0.077000  \n",
      "3        5000      0.392000  \n",
      "4        7503      0.207921  \n",
      "\n",
      "[5 rows x 22 columns]\n"
     ]
    }
   ],
   "source": [
    "print(data.head())"
   ]
  },
  {
   "cell_type": "code",
   "execution_count": 73,
   "id": "5d06c5ac-07ad-45c8-a2e8-4d101011c54c",
   "metadata": {},
   "outputs": [
    {
     "name": "stdout",
     "output_type": "stream",
     "text": [
      "Вариантов по запросу клиента 1:  41\n"
     ]
    }
   ],
   "source": [
    "# 5.1 Выберите дом клиенту\n",
    "# Клиент хочет дом с видом на набережную, как минимум с тремя ванными и с\n",
    "# подвалом. Сколько вариантов есть у клиента?\n",
    "house_for_client_1 = data[\n",
    "            (data['waterfront'] == 1) &\n",
    "            (data['bathrooms'] >= 3) &\n",
    "            (data['sqft_basement'] > 0)\n",
    "            ].shape[0]\n",
    "print(\"Вариантов по запросу клиента 1: \", house_for_client_1)"
   ]
  },
  {
   "cell_type": "code",
   "execution_count": 75,
   "id": "10c5b308-a8ce-489d-a950-cd68dca9fbb7",
   "metadata": {},
   "outputs": [
    {
     "name": "stdout",
     "output_type": "stream",
     "text": [
      "Ценовой диапазон домов по запросу клиента 2: от 308950.0 до 5300000.0\n"
     ]
    }
   ],
   "source": [
    "#  5.2 Выберите дом клиенту\n",
    "# Клиент хочет дом либо с очень красивым видом из окна, либо с видом на\n",
    "# набережную, в очень хорошем состоянии и год постройки не меньше 1980 года. В\n",
    "# какой ценовом диапазоне будут дома?\n",
    "min_price_for_client_2 = data[\n",
    "                ((data['view'] > 0) | (data['waterfront'] == 1)) &\n",
    "                (data['condition']  >= 4) &\n",
    "                (data['yr_built'] >= 1980)\n",
    "                ]['price'].min()\n",
    "max_price_for_client_2 = data[\n",
    "                ((data['view'] > 0) | (data['waterfront'] == 1)) &\n",
    "                (data['condition']  >= 4) &\n",
    "                (data['yr_built'] >= 1980)\n",
    "                ]['price'].max()\n",
    "print(f\"Ценовой диапазон домов по запросу клиента 2: от {min_price_for_client_2} до {max_price_for_client_2}\")"
   ]
  },
  {
   "cell_type": "code",
   "execution_count": 81,
   "id": "b79b8ce1-b153-44fc-89bb-50407fe314c9",
   "metadata": {},
   "outputs": [
    {
     "name": "stdout",
     "output_type": "stream",
     "text": [
      "Ценовой диапазон домов по запросу клиента 2:  308950.0 5300000.0\n"
     ]
    }
   ],
   "source": [
    "#  5.2 Выберите дом клиенту - ******Вариант два*******\n",
    "# Клиент хочет дом либо с очень красивым видом из окна, либо с видом на\n",
    "# набережную, в очень хорошем состоянии и год постройки не меньше 1980 года. В\n",
    "# какой ценовом диапазоне будут дома?\n",
    "houses_for_client_2 = data[\n",
    "                ((data['view'] > 0) | (data['waterfront'] == 1)) &\n",
    "                (data['condition']  >= 4) &\n",
    "                (data['yr_built'] >= 1980)\n",
    "                ]\n",
    "price_range_for_client_2 = (houses_for_client_2['price'].min(), houses_for_client_2['price'].max())\n",
    "print(\"Ценовой диапазон домов по запросу клиента 2: \", *price_range_for_client_2)"
   ]
  },
  {
   "cell_type": "code",
   "execution_count": 87,
   "id": "7ff8a891-e8b5-48f0-baa3-9ffbe8ba8790",
   "metadata": {},
   "outputs": [
    {
     "name": "stdout",
     "output_type": "stream",
     "text": [
      "Средняя оценка состояния домов по запросу клиента 3:  2.8333333333333335\n"
     ]
    }
   ],
   "source": [
    "# 5.3 Выберите дом клиенту\n",
    "# Клиент хочет дом без подвала, с двумя этажами, стоимостью до 150 000.\n",
    "# Какая оценка по состоянию у таких домов в среднем?\n",
    "houses_for_client_3 = data[\n",
    "            (data['sqft_basement'] == 0) &\n",
    "            (data['floors'] == 2.0) &\n",
    "            (data['price'] < 150000)\n",
    "            ]\n",
    "avg_rate = houses_for_client_3['condition'].mean()\n",
    "print(\"Средняя оценка состояния домов по запросу клиента 3: \", avg_rate)"
   ]
  },
  {
   "cell_type": "code",
   "execution_count": null,
   "id": "cb840ae1-4a49-4afb-b0ab-704fa4b96ec3",
   "metadata": {},
   "outputs": [],
   "source": []
  }
 ],
 "metadata": {
  "kernelspec": {
   "display_name": "Python [conda env:base] *",
   "language": "python",
   "name": "conda-base-py"
  },
  "language_info": {
   "codemirror_mode": {
    "name": "ipython",
    "version": 3
   },
   "file_extension": ".py",
   "mimetype": "text/x-python",
   "name": "python",
   "nbconvert_exporter": "python",
   "pygments_lexer": "ipython3",
   "version": "3.12.7"
  }
 },
 "nbformat": 4,
 "nbformat_minor": 5
}
